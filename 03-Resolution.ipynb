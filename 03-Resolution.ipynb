{
  "nbformat": 4,
  "nbformat_minor": 0,
  "metadata": {
    "colab": {
      "name": "Copy of Resolution.ipynb",
      "provenance": [],
      "collapsed_sections": []
    },
    "kernelspec": {
      "display_name": "Python 3",
      "name": "python3"
    }
  },
  "cells": [
    {
      "cell_type": "code",
      "metadata": {
        "colab": {
          "base_uri": "https://localhost:8080/"
        },
        "id": "R_dNkaW9vcSm",
        "outputId": "72fdada9-9532-481a-fe3c-ab586f130f3b"
      },
      "source": [
        "from google.colab import drive\n",
        "drive.mount('/content/drive')"
      ],
      "execution_count": null,
      "outputs": [
        {
          "output_type": "stream",
          "text": [
            "Drive already mounted at /content/drive; to attempt to forcibly remount, call drive.mount(\"/content/drive\", force_remount=True).\n"
          ],
          "name": "stdout"
        }
      ]
    },
    {
      "cell_type": "code",
      "metadata": {
        "id": "ehqc04Blv_2r"
      },
      "source": [
        "# from google.colab import files\n",
        "\n",
        "# uploaded = files.upload()\n",
        "\n",
        "# for fn in uploaded.keys():\n",
        "#   print('User uploaded file \"{name}\" with length {length} bytes'.format(\n",
        "#       name=fn, length=len(uploaded[fn])))"
      ],
      "execution_count": null,
      "outputs": []
    },
    {
      "cell_type": "code",
      "metadata": {
        "id": "bKt7UpAAvx86"
      },
      "source": [
        "folder = '/content/drive/MyDrive/Colab Notebooks/MagNet'"
      ],
      "execution_count": null,
      "outputs": []
    },
    {
      "cell_type": "markdown",
      "metadata": {
        "id": "mj7zhBlm7k_D"
      },
      "source": [
        "### Calling Libraries"
      ]
    },
    {
      "cell_type": "code",
      "metadata": {
        "id": "TqImYEBiwHg4"
      },
      "source": [
        "import numpy as np\n",
        "import pandas as pd\n",
        "import matplotlib.pyplot as plt\n",
        "import sys, os"
      ],
      "execution_count": null,
      "outputs": []
    },
    {
      "cell_type": "markdown",
      "metadata": {
        "id": "A5FEze7C7o36"
      },
      "source": [
        "### Load Data"
      ]
    },
    {
      "cell_type": "code",
      "metadata": {
        "id": "VgFjAXQXwOA4"
      },
      "source": [
        "sunspots=pd.read_csv(os.path.join(folder, \"sunspots.csv\"), index_col=[\"period\", \"timedelta\"],)\n",
        "sat_pos = pd.read_csv(os.path.join(folder, \"satellite_positions.csv\"), index_col=[\"period\", \"timedelta\"],)\n",
        "dst = pd.read_csv(os.path.join(folder, \"dst_labels.csv\"), index_col=[\"period\", \"timedelta\"],)\n",
        "solar_wind = pd.read_csv(os.path.join(folder, \"solar_wind.csv\"),index_col=[\"period\", \"timedelta\"],)"
      ],
      "execution_count": null,
      "outputs": []
    },
    {
      "cell_type": "markdown",
      "metadata": {
        "id": "UWjVkEbL73sp"
      },
      "source": [
        "#### Function to summarize info"
      ]
    },
    {
      "cell_type": "code",
      "metadata": {
        "id": "vi2aMMUzcXN3"
      },
      "source": [
        "def data_info(df):\n",
        "  print (\"shape of the data dst_labs:\", df.shape)\n",
        "  print (\"Null values:\", df.isnull().sum())\n",
        "  print (\"Total null values sanity check:\", df.isnull().sum().sum())\n",
        "  display(df.head())"
      ],
      "execution_count": null,
      "outputs": []
    },
    {
      "cell_type": "markdown",
      "metadata": {
        "id": "lvqE_aHB9tUO"
      },
      "source": [
        "#### Function to resample all dataframes\n",
        "[Resample Help](https://www.w3resource.com/pandas/series/series-resample.php)  \n",
        "Have to reset index"
      ]
    },
    {
      "cell_type": "code",
      "metadata": {
        "id": "wh1-yKaPxOgz"
      },
      "source": [
        "def uri(df, sample_res):\n",
        "    df = df.reset_index(level='period')\n",
        "    df.index=pd.to_timedelta(df.index)\n",
        "    return df.groupby('period').resample(sample_res).mean()"
      ],
      "execution_count": null,
      "outputs": []
    },
    {
      "cell_type": "markdown",
      "metadata": {
        "id": "GHJdOuc6bCZw"
      },
      "source": [
        "### Solar Wind interpolation and aggregation"
      ]
    },
    {
      "cell_type": "code",
      "metadata": {
        "colab": {
          "base_uri": "https://localhost:8080/",
          "height": 541
        },
        "id": "cSzFBs1gcm8i",
        "outputId": "0234eb74-05ff-44a7-ea82-84094ae7334a"
      },
      "source": [
        "data_info(solar_wind)"
      ],
      "execution_count": null,
      "outputs": [
        {
          "output_type": "stream",
          "text": [
            "shape of the data dst_labs: (8392320, 15)\n",
            "Null values: bx_gse         325888\n",
            "by_gse         325888\n",
            "bz_gse         325888\n",
            "theta_gse      325888\n",
            "phi_gse        326388\n",
            "bx_gsm         325888\n",
            "by_gsm         325888\n",
            "bz_gsm         325888\n",
            "theta_gsm      325888\n",
            "phi_gsm        326388\n",
            "bt             325888\n",
            "density        684890\n",
            "speed          689555\n",
            "temperature    811768\n",
            "source         316816\n",
            "dtype: int64\n",
            "Total null values sanity check: 6088797\n"
          ],
          "name": "stdout"
        },
        {
          "output_type": "display_data",
          "data": {
            "text/html": [
              "<div>\n",
              "<style scoped>\n",
              "    .dataframe tbody tr th:only-of-type {\n",
              "        vertical-align: middle;\n",
              "    }\n",
              "\n",
              "    .dataframe tbody tr th {\n",
              "        vertical-align: top;\n",
              "    }\n",
              "\n",
              "    .dataframe thead th {\n",
              "        text-align: right;\n",
              "    }\n",
              "</style>\n",
              "<table border=\"1\" class=\"dataframe\">\n",
              "  <thead>\n",
              "    <tr style=\"text-align: right;\">\n",
              "      <th></th>\n",
              "      <th></th>\n",
              "      <th>bx_gse</th>\n",
              "      <th>by_gse</th>\n",
              "      <th>bz_gse</th>\n",
              "      <th>theta_gse</th>\n",
              "      <th>phi_gse</th>\n",
              "      <th>bx_gsm</th>\n",
              "      <th>by_gsm</th>\n",
              "      <th>bz_gsm</th>\n",
              "      <th>theta_gsm</th>\n",
              "      <th>phi_gsm</th>\n",
              "      <th>bt</th>\n",
              "      <th>density</th>\n",
              "      <th>speed</th>\n",
              "      <th>temperature</th>\n",
              "      <th>source</th>\n",
              "    </tr>\n",
              "    <tr>\n",
              "      <th>period</th>\n",
              "      <th>timedelta</th>\n",
              "      <th></th>\n",
              "      <th></th>\n",
              "      <th></th>\n",
              "      <th></th>\n",
              "      <th></th>\n",
              "      <th></th>\n",
              "      <th></th>\n",
              "      <th></th>\n",
              "      <th></th>\n",
              "      <th></th>\n",
              "      <th></th>\n",
              "      <th></th>\n",
              "      <th></th>\n",
              "      <th></th>\n",
              "      <th></th>\n",
              "    </tr>\n",
              "  </thead>\n",
              "  <tbody>\n",
              "    <tr>\n",
              "      <th rowspan=\"5\" valign=\"top\">train_a</th>\n",
              "      <th>0 days 00:00:00</th>\n",
              "      <td>-5.55</td>\n",
              "      <td>3.00</td>\n",
              "      <td>1.25</td>\n",
              "      <td>11.09</td>\n",
              "      <td>153.37</td>\n",
              "      <td>-5.55</td>\n",
              "      <td>3.00</td>\n",
              "      <td>1.25</td>\n",
              "      <td>11.09</td>\n",
              "      <td>153.37</td>\n",
              "      <td>6.80</td>\n",
              "      <td>1.53</td>\n",
              "      <td>383.92</td>\n",
              "      <td>110237.0</td>\n",
              "      <td>ac</td>\n",
              "    </tr>\n",
              "    <tr>\n",
              "      <th>0 days 00:01:00</th>\n",
              "      <td>-5.58</td>\n",
              "      <td>3.16</td>\n",
              "      <td>1.17</td>\n",
              "      <td>10.10</td>\n",
              "      <td>151.91</td>\n",
              "      <td>-5.58</td>\n",
              "      <td>3.16</td>\n",
              "      <td>1.17</td>\n",
              "      <td>10.10</td>\n",
              "      <td>151.91</td>\n",
              "      <td>6.83</td>\n",
              "      <td>1.69</td>\n",
              "      <td>381.79</td>\n",
              "      <td>123825.0</td>\n",
              "      <td>ac</td>\n",
              "    </tr>\n",
              "    <tr>\n",
              "      <th>0 days 00:02:00</th>\n",
              "      <td>-5.15</td>\n",
              "      <td>3.66</td>\n",
              "      <td>0.85</td>\n",
              "      <td>7.87</td>\n",
              "      <td>146.04</td>\n",
              "      <td>-5.15</td>\n",
              "      <td>3.66</td>\n",
              "      <td>0.85</td>\n",
              "      <td>7.87</td>\n",
              "      <td>146.04</td>\n",
              "      <td>6.77</td>\n",
              "      <td>1.97</td>\n",
              "      <td>389.11</td>\n",
              "      <td>82548.0</td>\n",
              "      <td>ac</td>\n",
              "    </tr>\n",
              "    <tr>\n",
              "      <th>0 days 00:03:00</th>\n",
              "      <td>-5.20</td>\n",
              "      <td>3.68</td>\n",
              "      <td>0.68</td>\n",
              "      <td>6.17</td>\n",
              "      <td>146.17</td>\n",
              "      <td>-5.20</td>\n",
              "      <td>3.68</td>\n",
              "      <td>0.68</td>\n",
              "      <td>6.17</td>\n",
              "      <td>146.17</td>\n",
              "      <td>6.74</td>\n",
              "      <td>1.97</td>\n",
              "      <td>389.11</td>\n",
              "      <td>82548.0</td>\n",
              "      <td>ac</td>\n",
              "    </tr>\n",
              "    <tr>\n",
              "      <th>0 days 00:04:00</th>\n",
              "      <td>-5.12</td>\n",
              "      <td>3.68</td>\n",
              "      <td>0.49</td>\n",
              "      <td>4.62</td>\n",
              "      <td>145.72</td>\n",
              "      <td>-5.12</td>\n",
              "      <td>3.68</td>\n",
              "      <td>0.49</td>\n",
              "      <td>4.62</td>\n",
              "      <td>145.72</td>\n",
              "      <td>6.65</td>\n",
              "      <td>1.77</td>\n",
              "      <td>384.26</td>\n",
              "      <td>94269.0</td>\n",
              "      <td>ac</td>\n",
              "    </tr>\n",
              "  </tbody>\n",
              "</table>\n",
              "</div>"
            ],
            "text/plain": [
              "                         bx_gse  by_gse  bz_gse  ...   speed  temperature  source\n",
              "period  timedelta                                ...                             \n",
              "train_a 0 days 00:00:00   -5.55    3.00    1.25  ...  383.92     110237.0      ac\n",
              "        0 days 00:01:00   -5.58    3.16    1.17  ...  381.79     123825.0      ac\n",
              "        0 days 00:02:00   -5.15    3.66    0.85  ...  389.11      82548.0      ac\n",
              "        0 days 00:03:00   -5.20    3.68    0.68  ...  389.11      82548.0      ac\n",
              "        0 days 00:04:00   -5.12    3.68    0.49  ...  384.26      94269.0      ac\n",
              "\n",
              "[5 rows x 15 columns]"
            ]
          },
          "metadata": {
            "tags": []
          }
        }
      ]
    },
    {
      "cell_type": "markdown",
      "metadata": {
        "id": "YRoufymp8U6E"
      },
      "source": [
        "##### Drop irrelevant columns from Solar Wind data"
      ]
    },
    {
      "cell_type": "code",
      "metadata": {
        "id": "LWaDYXh8wRBl"
      },
      "source": [
        "# drop the unnecessary columns from solar_wind\n",
        "cols_to_drop= ['bx_gsm','by_gsm', 'bz_gsm', 'theta_gsm', 'phi_gsm', 'source']\n",
        "solar_wind.drop(cols_to_drop, axis=1, inplace=True)\n"
      ],
      "execution_count": null,
      "outputs": []
    },
    {
      "cell_type": "code",
      "metadata": {
        "colab": {
          "base_uri": "https://localhost:8080/"
        },
        "id": "r2KFyb_uwsvK",
        "outputId": "8515dffc-4097-42e2-e6d1-5d0b5aeffea2"
      },
      "source": [
        "print (\"The Null values in the data:\\n\", solar_wind.isnull().sum())"
      ],
      "execution_count": null,
      "outputs": [
        {
          "output_type": "stream",
          "text": [
            "The Null values in the data:\n",
            " bx_gse         325888\n",
            "by_gse         325888\n",
            "bz_gse         325888\n",
            "theta_gse      325888\n",
            "phi_gse        326388\n",
            "bt             325888\n",
            "density        684890\n",
            "speed          689555\n",
            "temperature    811768\n",
            "dtype: int64\n"
          ],
          "name": "stdout"
        }
      ]
    },
    {
      "cell_type": "code",
      "metadata": {
        "id": "GdapWH8Owv-p"
      },
      "source": [
        "solar_wind.interpolate(method='linear', limit_direction='forward', axis=0, inplace=True)"
      ],
      "execution_count": null,
      "outputs": []
    },
    {
      "cell_type": "code",
      "metadata": {
        "colab": {
          "base_uri": "https://localhost:8080/",
          "height": 269
        },
        "id": "TGXRok4Kw3v2",
        "outputId": "0f1547d9-806e-4cf7-a7ac-895036cd5263"
      },
      "source": [
        "print (\"shape of the data shape:\", solar_wind.shape)\n",
        "print (\"Null values after interpolation:\", solar_wind.isnull().sum().sum())\n",
        "solar_wind.head()"
      ],
      "execution_count": null,
      "outputs": [
        {
          "output_type": "stream",
          "text": [
            "shape of the data shape: (8392320, 9)\n",
            "Null values after interpolation: 0\n"
          ],
          "name": "stdout"
        },
        {
          "output_type": "execute_result",
          "data": {
            "text/html": [
              "<div>\n",
              "<style scoped>\n",
              "    .dataframe tbody tr th:only-of-type {\n",
              "        vertical-align: middle;\n",
              "    }\n",
              "\n",
              "    .dataframe tbody tr th {\n",
              "        vertical-align: top;\n",
              "    }\n",
              "\n",
              "    .dataframe thead th {\n",
              "        text-align: right;\n",
              "    }\n",
              "</style>\n",
              "<table border=\"1\" class=\"dataframe\">\n",
              "  <thead>\n",
              "    <tr style=\"text-align: right;\">\n",
              "      <th></th>\n",
              "      <th></th>\n",
              "      <th>bx_gse</th>\n",
              "      <th>by_gse</th>\n",
              "      <th>bz_gse</th>\n",
              "      <th>theta_gse</th>\n",
              "      <th>phi_gse</th>\n",
              "      <th>bt</th>\n",
              "      <th>density</th>\n",
              "      <th>speed</th>\n",
              "      <th>temperature</th>\n",
              "    </tr>\n",
              "    <tr>\n",
              "      <th>period</th>\n",
              "      <th>timedelta</th>\n",
              "      <th></th>\n",
              "      <th></th>\n",
              "      <th></th>\n",
              "      <th></th>\n",
              "      <th></th>\n",
              "      <th></th>\n",
              "      <th></th>\n",
              "      <th></th>\n",
              "      <th></th>\n",
              "    </tr>\n",
              "  </thead>\n",
              "  <tbody>\n",
              "    <tr>\n",
              "      <th rowspan=\"5\" valign=\"top\">train_a</th>\n",
              "      <th>0 days 00:00:00</th>\n",
              "      <td>-5.55</td>\n",
              "      <td>3.00</td>\n",
              "      <td>1.25</td>\n",
              "      <td>11.09</td>\n",
              "      <td>153.37</td>\n",
              "      <td>6.80</td>\n",
              "      <td>1.53</td>\n",
              "      <td>383.92</td>\n",
              "      <td>110237.0</td>\n",
              "    </tr>\n",
              "    <tr>\n",
              "      <th>0 days 00:01:00</th>\n",
              "      <td>-5.58</td>\n",
              "      <td>3.16</td>\n",
              "      <td>1.17</td>\n",
              "      <td>10.10</td>\n",
              "      <td>151.91</td>\n",
              "      <td>6.83</td>\n",
              "      <td>1.69</td>\n",
              "      <td>381.79</td>\n",
              "      <td>123825.0</td>\n",
              "    </tr>\n",
              "    <tr>\n",
              "      <th>0 days 00:02:00</th>\n",
              "      <td>-5.15</td>\n",
              "      <td>3.66</td>\n",
              "      <td>0.85</td>\n",
              "      <td>7.87</td>\n",
              "      <td>146.04</td>\n",
              "      <td>6.77</td>\n",
              "      <td>1.97</td>\n",
              "      <td>389.11</td>\n",
              "      <td>82548.0</td>\n",
              "    </tr>\n",
              "    <tr>\n",
              "      <th>0 days 00:03:00</th>\n",
              "      <td>-5.20</td>\n",
              "      <td>3.68</td>\n",
              "      <td>0.68</td>\n",
              "      <td>6.17</td>\n",
              "      <td>146.17</td>\n",
              "      <td>6.74</td>\n",
              "      <td>1.97</td>\n",
              "      <td>389.11</td>\n",
              "      <td>82548.0</td>\n",
              "    </tr>\n",
              "    <tr>\n",
              "      <th>0 days 00:04:00</th>\n",
              "      <td>-5.12</td>\n",
              "      <td>3.68</td>\n",
              "      <td>0.49</td>\n",
              "      <td>4.62</td>\n",
              "      <td>145.72</td>\n",
              "      <td>6.65</td>\n",
              "      <td>1.77</td>\n",
              "      <td>384.26</td>\n",
              "      <td>94269.0</td>\n",
              "    </tr>\n",
              "  </tbody>\n",
              "</table>\n",
              "</div>"
            ],
            "text/plain": [
              "                         bx_gse  by_gse  bz_gse  ...  density   speed  temperature\n",
              "period  timedelta                                ...                              \n",
              "train_a 0 days 00:00:00   -5.55    3.00    1.25  ...     1.53  383.92     110237.0\n",
              "        0 days 00:01:00   -5.58    3.16    1.17  ...     1.69  381.79     123825.0\n",
              "        0 days 00:02:00   -5.15    3.66    0.85  ...     1.97  389.11      82548.0\n",
              "        0 days 00:03:00   -5.20    3.68    0.68  ...     1.97  389.11      82548.0\n",
              "        0 days 00:04:00   -5.12    3.68    0.49  ...     1.77  384.26      94269.0\n",
              "\n",
              "[5 rows x 9 columns]"
            ]
          },
          "metadata": {
            "tags": []
          },
          "execution_count": 115
        }
      ]
    },
    {
      "cell_type": "code",
      "metadata": {
        "id": "NY41Lqetxd17"
      },
      "source": [
        "sw_agg=uri(solar_wind, '30T')\n"
      ],
      "execution_count": null,
      "outputs": []
    },
    {
      "cell_type": "code",
      "metadata": {
        "colab": {
          "base_uri": "https://localhost:8080/",
          "height": 439
        },
        "id": "n6IHhcAo6pV9",
        "outputId": "81a2b5ea-c781-42da-cc9a-3543d0f4c19a"
      },
      "source": [
        "data_info(sw_agg)"
      ],
      "execution_count": null,
      "outputs": [
        {
          "output_type": "stream",
          "text": [
            "shape of the data dst_labs: (279744, 9)\n",
            "Null values: bx_gse         0\n",
            "by_gse         0\n",
            "bz_gse         0\n",
            "theta_gse      0\n",
            "phi_gse        0\n",
            "bt             0\n",
            "density        0\n",
            "speed          0\n",
            "temperature    0\n",
            "dtype: int64\n",
            "Total null values sanity check: 0\n"
          ],
          "name": "stdout"
        },
        {
          "output_type": "display_data",
          "data": {
            "text/html": [
              "<div>\n",
              "<style scoped>\n",
              "    .dataframe tbody tr th:only-of-type {\n",
              "        vertical-align: middle;\n",
              "    }\n",
              "\n",
              "    .dataframe tbody tr th {\n",
              "        vertical-align: top;\n",
              "    }\n",
              "\n",
              "    .dataframe thead th {\n",
              "        text-align: right;\n",
              "    }\n",
              "</style>\n",
              "<table border=\"1\" class=\"dataframe\">\n",
              "  <thead>\n",
              "    <tr style=\"text-align: right;\">\n",
              "      <th></th>\n",
              "      <th></th>\n",
              "      <th>bx_gse</th>\n",
              "      <th>by_gse</th>\n",
              "      <th>bz_gse</th>\n",
              "      <th>theta_gse</th>\n",
              "      <th>phi_gse</th>\n",
              "      <th>bt</th>\n",
              "      <th>density</th>\n",
              "      <th>speed</th>\n",
              "      <th>temperature</th>\n",
              "    </tr>\n",
              "    <tr>\n",
              "      <th>period</th>\n",
              "      <th>timedelta</th>\n",
              "      <th></th>\n",
              "      <th></th>\n",
              "      <th></th>\n",
              "      <th></th>\n",
              "      <th></th>\n",
              "      <th></th>\n",
              "      <th></th>\n",
              "      <th></th>\n",
              "      <th></th>\n",
              "    </tr>\n",
              "  </thead>\n",
              "  <tbody>\n",
              "    <tr>\n",
              "      <th rowspan=\"5\" valign=\"top\">train_a</th>\n",
              "      <th>0 days 00:00:00</th>\n",
              "      <td>-5.924667</td>\n",
              "      <td>2.342667</td>\n",
              "      <td>0.910333</td>\n",
              "      <td>7.925000</td>\n",
              "      <td>159.567333</td>\n",
              "      <td>6.859667</td>\n",
              "      <td>1.367000</td>\n",
              "      <td>364.503167</td>\n",
              "      <td>79025.966667</td>\n",
              "    </tr>\n",
              "    <tr>\n",
              "      <th>0 days 00:30:00</th>\n",
              "      <td>-6.374333</td>\n",
              "      <td>0.948333</td>\n",
              "      <td>0.779000</td>\n",
              "      <td>6.282333</td>\n",
              "      <td>171.273333</td>\n",
              "      <td>7.420333</td>\n",
              "      <td>0.981333</td>\n",
              "      <td>346.053333</td>\n",
              "      <td>58734.716667</td>\n",
              "    </tr>\n",
              "    <tr>\n",
              "      <th>0 days 01:00:00</th>\n",
              "      <td>-6.470333</td>\n",
              "      <td>0.367333</td>\n",
              "      <td>1.320333</td>\n",
              "      <td>10.937333</td>\n",
              "      <td>177.403333</td>\n",
              "      <td>7.033000</td>\n",
              "      <td>1.002333</td>\n",
              "      <td>337.884667</td>\n",
              "      <td>78864.695238</td>\n",
              "    </tr>\n",
              "    <tr>\n",
              "      <th>0 days 01:30:00</th>\n",
              "      <td>-6.917333</td>\n",
              "      <td>1.165667</td>\n",
              "      <td>1.210000</td>\n",
              "      <td>9.429333</td>\n",
              "      <td>171.132333</td>\n",
              "      <td>7.536667</td>\n",
              "      <td>0.629500</td>\n",
              "      <td>322.276500</td>\n",
              "      <td>25541.754762</td>\n",
              "    </tr>\n",
              "    <tr>\n",
              "      <th>0 days 02:00:00</th>\n",
              "      <td>-7.215000</td>\n",
              "      <td>0.885333</td>\n",
              "      <td>2.135667</td>\n",
              "      <td>15.792667</td>\n",
              "      <td>173.602333</td>\n",
              "      <td>7.857333</td>\n",
              "      <td>1.021833</td>\n",
              "      <td>331.417833</td>\n",
              "      <td>55013.433333</td>\n",
              "    </tr>\n",
              "  </tbody>\n",
              "</table>\n",
              "</div>"
            ],
            "text/plain": [
              "                           bx_gse    by_gse  ...       speed   temperature\n",
              "period  timedelta                            ...                          \n",
              "train_a 0 days 00:00:00 -5.924667  2.342667  ...  364.503167  79025.966667\n",
              "        0 days 00:30:00 -6.374333  0.948333  ...  346.053333  58734.716667\n",
              "        0 days 01:00:00 -6.470333  0.367333  ...  337.884667  78864.695238\n",
              "        0 days 01:30:00 -6.917333  1.165667  ...  322.276500  25541.754762\n",
              "        0 days 02:00:00 -7.215000  0.885333  ...  331.417833  55013.433333\n",
              "\n",
              "[5 rows x 9 columns]"
            ]
          },
          "metadata": {
            "tags": []
          }
        }
      ]
    },
    {
      "cell_type": "markdown",
      "metadata": {
        "id": "XnbvwOod_Sfb"
      },
      "source": [
        "### Dst interpolation and join with Solar Wind data"
      ]
    },
    {
      "cell_type": "code",
      "metadata": {
        "colab": {
          "base_uri": "https://localhost:8080/",
          "height": 303
        },
        "id": "O-UWAQiWxsSR",
        "outputId": "05addc5f-fed8-408a-e952-fc8e1f72bed7"
      },
      "source": [
        "data_info(dst)"
      ],
      "execution_count": null,
      "outputs": [
        {
          "output_type": "stream",
          "text": [
            "shape of the data dst_labs: (139872, 1)\n",
            "Null values: dst    0\n",
            "dtype: int64\n",
            "Total null values sanity check: 0\n"
          ],
          "name": "stdout"
        },
        {
          "output_type": "display_data",
          "data": {
            "text/html": [
              "<div>\n",
              "<style scoped>\n",
              "    .dataframe tbody tr th:only-of-type {\n",
              "        vertical-align: middle;\n",
              "    }\n",
              "\n",
              "    .dataframe tbody tr th {\n",
              "        vertical-align: top;\n",
              "    }\n",
              "\n",
              "    .dataframe thead th {\n",
              "        text-align: right;\n",
              "    }\n",
              "</style>\n",
              "<table border=\"1\" class=\"dataframe\">\n",
              "  <thead>\n",
              "    <tr style=\"text-align: right;\">\n",
              "      <th></th>\n",
              "      <th></th>\n",
              "      <th>dst</th>\n",
              "    </tr>\n",
              "    <tr>\n",
              "      <th>period</th>\n",
              "      <th>timedelta</th>\n",
              "      <th></th>\n",
              "    </tr>\n",
              "  </thead>\n",
              "  <tbody>\n",
              "    <tr>\n",
              "      <th rowspan=\"5\" valign=\"top\">train_a</th>\n",
              "      <th>0 days 00:00:00</th>\n",
              "      <td>-7</td>\n",
              "    </tr>\n",
              "    <tr>\n",
              "      <th>0 days 01:00:00</th>\n",
              "      <td>-10</td>\n",
              "    </tr>\n",
              "    <tr>\n",
              "      <th>0 days 02:00:00</th>\n",
              "      <td>-10</td>\n",
              "    </tr>\n",
              "    <tr>\n",
              "      <th>0 days 03:00:00</th>\n",
              "      <td>-6</td>\n",
              "    </tr>\n",
              "    <tr>\n",
              "      <th>0 days 04:00:00</th>\n",
              "      <td>-2</td>\n",
              "    </tr>\n",
              "  </tbody>\n",
              "</table>\n",
              "</div>"
            ],
            "text/plain": [
              "                         dst\n",
              "period  timedelta           \n",
              "train_a 0 days 00:00:00   -7\n",
              "        0 days 01:00:00  -10\n",
              "        0 days 02:00:00  -10\n",
              "        0 days 03:00:00   -6\n",
              "        0 days 04:00:00   -2"
            ]
          },
          "metadata": {
            "tags": []
          }
        }
      ]
    },
    {
      "cell_type": "code",
      "metadata": {
        "id": "NAI1NBiHVstM"
      },
      "source": [
        "# sample only hourly data\n",
        "dst= uri(dst, '30T')"
      ],
      "execution_count": null,
      "outputs": []
    },
    {
      "cell_type": "code",
      "metadata": {
        "colab": {
          "base_uri": "https://localhost:8080/",
          "height": 303
        },
        "id": "3EenyEHlc5bV",
        "outputId": "2dd18d0f-764b-4a12-fd1e-ad4387750670"
      },
      "source": [
        "data_info(dst)"
      ],
      "execution_count": null,
      "outputs": [
        {
          "output_type": "stream",
          "text": [
            "shape of the data dst_labs: (279741, 1)\n",
            "Null values: dst    139869\n",
            "dtype: int64\n",
            "Total null values sanity check: 139869\n"
          ],
          "name": "stdout"
        },
        {
          "output_type": "display_data",
          "data": {
            "text/html": [
              "<div>\n",
              "<style scoped>\n",
              "    .dataframe tbody tr th:only-of-type {\n",
              "        vertical-align: middle;\n",
              "    }\n",
              "\n",
              "    .dataframe tbody tr th {\n",
              "        vertical-align: top;\n",
              "    }\n",
              "\n",
              "    .dataframe thead th {\n",
              "        text-align: right;\n",
              "    }\n",
              "</style>\n",
              "<table border=\"1\" class=\"dataframe\">\n",
              "  <thead>\n",
              "    <tr style=\"text-align: right;\">\n",
              "      <th></th>\n",
              "      <th></th>\n",
              "      <th>dst</th>\n",
              "    </tr>\n",
              "    <tr>\n",
              "      <th>period</th>\n",
              "      <th>timedelta</th>\n",
              "      <th></th>\n",
              "    </tr>\n",
              "  </thead>\n",
              "  <tbody>\n",
              "    <tr>\n",
              "      <th rowspan=\"5\" valign=\"top\">train_a</th>\n",
              "      <th>0 days 00:00:00</th>\n",
              "      <td>-7.0</td>\n",
              "    </tr>\n",
              "    <tr>\n",
              "      <th>0 days 00:30:00</th>\n",
              "      <td>NaN</td>\n",
              "    </tr>\n",
              "    <tr>\n",
              "      <th>0 days 01:00:00</th>\n",
              "      <td>-10.0</td>\n",
              "    </tr>\n",
              "    <tr>\n",
              "      <th>0 days 01:30:00</th>\n",
              "      <td>NaN</td>\n",
              "    </tr>\n",
              "    <tr>\n",
              "      <th>0 days 02:00:00</th>\n",
              "      <td>-10.0</td>\n",
              "    </tr>\n",
              "  </tbody>\n",
              "</table>\n",
              "</div>"
            ],
            "text/plain": [
              "                          dst\n",
              "period  timedelta            \n",
              "train_a 0 days 00:00:00  -7.0\n",
              "        0 days 00:30:00   NaN\n",
              "        0 days 01:00:00 -10.0\n",
              "        0 days 01:30:00   NaN\n",
              "        0 days 02:00:00 -10.0"
            ]
          },
          "metadata": {
            "tags": []
          }
        }
      ]
    },
    {
      "cell_type": "code",
      "metadata": {
        "colab": {
          "base_uri": "https://localhost:8080/",
          "height": 235
        },
        "id": "C0RIz50RVzFf",
        "outputId": "ef8cafdc-82d0-4b3a-8ee2-311b456a50c4"
      },
      "source": [
        "sw_dst=sw_agg.join(dst)\n",
        "sw_dst.head()"
      ],
      "execution_count": null,
      "outputs": [
        {
          "output_type": "execute_result",
          "data": {
            "text/html": [
              "<div>\n",
              "<style scoped>\n",
              "    .dataframe tbody tr th:only-of-type {\n",
              "        vertical-align: middle;\n",
              "    }\n",
              "\n",
              "    .dataframe tbody tr th {\n",
              "        vertical-align: top;\n",
              "    }\n",
              "\n",
              "    .dataframe thead th {\n",
              "        text-align: right;\n",
              "    }\n",
              "</style>\n",
              "<table border=\"1\" class=\"dataframe\">\n",
              "  <thead>\n",
              "    <tr style=\"text-align: right;\">\n",
              "      <th></th>\n",
              "      <th></th>\n",
              "      <th>bx_gse</th>\n",
              "      <th>by_gse</th>\n",
              "      <th>bz_gse</th>\n",
              "      <th>theta_gse</th>\n",
              "      <th>phi_gse</th>\n",
              "      <th>bt</th>\n",
              "      <th>density</th>\n",
              "      <th>speed</th>\n",
              "      <th>temperature</th>\n",
              "      <th>dst</th>\n",
              "    </tr>\n",
              "    <tr>\n",
              "      <th>period</th>\n",
              "      <th>timedelta</th>\n",
              "      <th></th>\n",
              "      <th></th>\n",
              "      <th></th>\n",
              "      <th></th>\n",
              "      <th></th>\n",
              "      <th></th>\n",
              "      <th></th>\n",
              "      <th></th>\n",
              "      <th></th>\n",
              "      <th></th>\n",
              "    </tr>\n",
              "  </thead>\n",
              "  <tbody>\n",
              "    <tr>\n",
              "      <th rowspan=\"5\" valign=\"top\">train_a</th>\n",
              "      <th>0 days 00:00:00</th>\n",
              "      <td>-5.924667</td>\n",
              "      <td>2.342667</td>\n",
              "      <td>0.910333</td>\n",
              "      <td>7.925000</td>\n",
              "      <td>159.567333</td>\n",
              "      <td>6.859667</td>\n",
              "      <td>1.367000</td>\n",
              "      <td>364.503167</td>\n",
              "      <td>79025.966667</td>\n",
              "      <td>-7.0</td>\n",
              "    </tr>\n",
              "    <tr>\n",
              "      <th>0 days 00:30:00</th>\n",
              "      <td>-6.374333</td>\n",
              "      <td>0.948333</td>\n",
              "      <td>0.779000</td>\n",
              "      <td>6.282333</td>\n",
              "      <td>171.273333</td>\n",
              "      <td>7.420333</td>\n",
              "      <td>0.981333</td>\n",
              "      <td>346.053333</td>\n",
              "      <td>58734.716667</td>\n",
              "      <td>NaN</td>\n",
              "    </tr>\n",
              "    <tr>\n",
              "      <th>0 days 01:00:00</th>\n",
              "      <td>-6.470333</td>\n",
              "      <td>0.367333</td>\n",
              "      <td>1.320333</td>\n",
              "      <td>10.937333</td>\n",
              "      <td>177.403333</td>\n",
              "      <td>7.033000</td>\n",
              "      <td>1.002333</td>\n",
              "      <td>337.884667</td>\n",
              "      <td>78864.695238</td>\n",
              "      <td>-10.0</td>\n",
              "    </tr>\n",
              "    <tr>\n",
              "      <th>0 days 01:30:00</th>\n",
              "      <td>-6.917333</td>\n",
              "      <td>1.165667</td>\n",
              "      <td>1.210000</td>\n",
              "      <td>9.429333</td>\n",
              "      <td>171.132333</td>\n",
              "      <td>7.536667</td>\n",
              "      <td>0.629500</td>\n",
              "      <td>322.276500</td>\n",
              "      <td>25541.754762</td>\n",
              "      <td>NaN</td>\n",
              "    </tr>\n",
              "    <tr>\n",
              "      <th>0 days 02:00:00</th>\n",
              "      <td>-7.215000</td>\n",
              "      <td>0.885333</td>\n",
              "      <td>2.135667</td>\n",
              "      <td>15.792667</td>\n",
              "      <td>173.602333</td>\n",
              "      <td>7.857333</td>\n",
              "      <td>1.021833</td>\n",
              "      <td>331.417833</td>\n",
              "      <td>55013.433333</td>\n",
              "      <td>-10.0</td>\n",
              "    </tr>\n",
              "  </tbody>\n",
              "</table>\n",
              "</div>"
            ],
            "text/plain": [
              "                           bx_gse    by_gse  ...   temperature   dst\n",
              "period  timedelta                            ...                    \n",
              "train_a 0 days 00:00:00 -5.924667  2.342667  ...  79025.966667  -7.0\n",
              "        0 days 00:30:00 -6.374333  0.948333  ...  58734.716667   NaN\n",
              "        0 days 01:00:00 -6.470333  0.367333  ...  78864.695238 -10.0\n",
              "        0 days 01:30:00 -6.917333  1.165667  ...  25541.754762   NaN\n",
              "        0 days 02:00:00 -7.215000  0.885333  ...  55013.433333 -10.0\n",
              "\n",
              "[5 rows x 10 columns]"
            ]
          },
          "metadata": {
            "tags": []
          },
          "execution_count": 121
        }
      ]
    },
    {
      "cell_type": "code",
      "metadata": {
        "id": "Q4ZhlS3s_6xq"
      },
      "source": [
        "sw_dst['dst']=sw_dst[['dst']].interpolate(method='linear', limit_direction='forward', axis=0)"
      ],
      "execution_count": null,
      "outputs": []
    },
    {
      "cell_type": "code",
      "metadata": {
        "colab": {
          "base_uri": "https://localhost:8080/",
          "height": 456
        },
        "id": "YwKiNz8DBEOI",
        "outputId": "793aff06-6267-46a5-8312-f28953a76ac0"
      },
      "source": [
        "data_info(sw_dst)"
      ],
      "execution_count": null,
      "outputs": [
        {
          "output_type": "stream",
          "text": [
            "shape of the data dst_labs: (279744, 10)\n",
            "Null values: bx_gse         0\n",
            "by_gse         0\n",
            "bz_gse         0\n",
            "theta_gse      0\n",
            "phi_gse        0\n",
            "bt             0\n",
            "density        0\n",
            "speed          0\n",
            "temperature    0\n",
            "dst            0\n",
            "dtype: int64\n",
            "Total null values sanity check: 0\n"
          ],
          "name": "stdout"
        },
        {
          "output_type": "display_data",
          "data": {
            "text/html": [
              "<div>\n",
              "<style scoped>\n",
              "    .dataframe tbody tr th:only-of-type {\n",
              "        vertical-align: middle;\n",
              "    }\n",
              "\n",
              "    .dataframe tbody tr th {\n",
              "        vertical-align: top;\n",
              "    }\n",
              "\n",
              "    .dataframe thead th {\n",
              "        text-align: right;\n",
              "    }\n",
              "</style>\n",
              "<table border=\"1\" class=\"dataframe\">\n",
              "  <thead>\n",
              "    <tr style=\"text-align: right;\">\n",
              "      <th></th>\n",
              "      <th></th>\n",
              "      <th>bx_gse</th>\n",
              "      <th>by_gse</th>\n",
              "      <th>bz_gse</th>\n",
              "      <th>theta_gse</th>\n",
              "      <th>phi_gse</th>\n",
              "      <th>bt</th>\n",
              "      <th>density</th>\n",
              "      <th>speed</th>\n",
              "      <th>temperature</th>\n",
              "      <th>dst</th>\n",
              "    </tr>\n",
              "    <tr>\n",
              "      <th>period</th>\n",
              "      <th>timedelta</th>\n",
              "      <th></th>\n",
              "      <th></th>\n",
              "      <th></th>\n",
              "      <th></th>\n",
              "      <th></th>\n",
              "      <th></th>\n",
              "      <th></th>\n",
              "      <th></th>\n",
              "      <th></th>\n",
              "      <th></th>\n",
              "    </tr>\n",
              "  </thead>\n",
              "  <tbody>\n",
              "    <tr>\n",
              "      <th rowspan=\"5\" valign=\"top\">train_a</th>\n",
              "      <th>0 days 00:00:00</th>\n",
              "      <td>-5.924667</td>\n",
              "      <td>2.342667</td>\n",
              "      <td>0.910333</td>\n",
              "      <td>7.925000</td>\n",
              "      <td>159.567333</td>\n",
              "      <td>6.859667</td>\n",
              "      <td>1.367000</td>\n",
              "      <td>364.503167</td>\n",
              "      <td>79025.966667</td>\n",
              "      <td>-7.0</td>\n",
              "    </tr>\n",
              "    <tr>\n",
              "      <th>0 days 00:30:00</th>\n",
              "      <td>-6.374333</td>\n",
              "      <td>0.948333</td>\n",
              "      <td>0.779000</td>\n",
              "      <td>6.282333</td>\n",
              "      <td>171.273333</td>\n",
              "      <td>7.420333</td>\n",
              "      <td>0.981333</td>\n",
              "      <td>346.053333</td>\n",
              "      <td>58734.716667</td>\n",
              "      <td>-8.5</td>\n",
              "    </tr>\n",
              "    <tr>\n",
              "      <th>0 days 01:00:00</th>\n",
              "      <td>-6.470333</td>\n",
              "      <td>0.367333</td>\n",
              "      <td>1.320333</td>\n",
              "      <td>10.937333</td>\n",
              "      <td>177.403333</td>\n",
              "      <td>7.033000</td>\n",
              "      <td>1.002333</td>\n",
              "      <td>337.884667</td>\n",
              "      <td>78864.695238</td>\n",
              "      <td>-10.0</td>\n",
              "    </tr>\n",
              "    <tr>\n",
              "      <th>0 days 01:30:00</th>\n",
              "      <td>-6.917333</td>\n",
              "      <td>1.165667</td>\n",
              "      <td>1.210000</td>\n",
              "      <td>9.429333</td>\n",
              "      <td>171.132333</td>\n",
              "      <td>7.536667</td>\n",
              "      <td>0.629500</td>\n",
              "      <td>322.276500</td>\n",
              "      <td>25541.754762</td>\n",
              "      <td>-10.0</td>\n",
              "    </tr>\n",
              "    <tr>\n",
              "      <th>0 days 02:00:00</th>\n",
              "      <td>-7.215000</td>\n",
              "      <td>0.885333</td>\n",
              "      <td>2.135667</td>\n",
              "      <td>15.792667</td>\n",
              "      <td>173.602333</td>\n",
              "      <td>7.857333</td>\n",
              "      <td>1.021833</td>\n",
              "      <td>331.417833</td>\n",
              "      <td>55013.433333</td>\n",
              "      <td>-10.0</td>\n",
              "    </tr>\n",
              "  </tbody>\n",
              "</table>\n",
              "</div>"
            ],
            "text/plain": [
              "                           bx_gse    by_gse  ...   temperature   dst\n",
              "period  timedelta                            ...                    \n",
              "train_a 0 days 00:00:00 -5.924667  2.342667  ...  79025.966667  -7.0\n",
              "        0 days 00:30:00 -6.374333  0.948333  ...  58734.716667  -8.5\n",
              "        0 days 01:00:00 -6.470333  0.367333  ...  78864.695238 -10.0\n",
              "        0 days 01:30:00 -6.917333  1.165667  ...  25541.754762 -10.0\n",
              "        0 days 02:00:00 -7.215000  0.885333  ...  55013.433333 -10.0\n",
              "\n",
              "[5 rows x 10 columns]"
            ]
          },
          "metadata": {
            "tags": []
          }
        }
      ]
    },
    {
      "cell_type": "code",
      "metadata": {
        "colab": {
          "base_uri": "https://localhost:8080/"
        },
        "id": "WqAlzdwjWAkB",
        "outputId": "4722524f-e840-4cf3-ce55-3a9e9eef29e8"
      },
      "source": [
        "print(sw_agg.shape , dst.shape, sw_dst.shape)"
      ],
      "execution_count": null,
      "outputs": [
        {
          "output_type": "stream",
          "text": [
            "(279744, 9) (279741, 1) (279744, 10)\n"
          ],
          "name": "stdout"
        }
      ]
    },
    {
      "cell_type": "markdown",
      "metadata": {
        "id": "TOEELHsqAXPm"
      },
      "source": [
        "### Sunspots data interpolation and join with Solar Wind and Dst"
      ]
    },
    {
      "cell_type": "code",
      "metadata": {
        "colab": {
          "base_uri": "https://localhost:8080/",
          "height": 303
        },
        "id": "TLJoo7dbASQW",
        "outputId": "b9167b85-cd13-40f9-c5eb-fd19417894c2"
      },
      "source": [
        "data_info(sunspots)"
      ],
      "execution_count": null,
      "outputs": [
        {
          "output_type": "stream",
          "text": [
            "shape of the data dst_labs: (192, 1)\n",
            "Null values: smoothed_ssn    0\n",
            "dtype: int64\n",
            "Total null values sanity check: 0\n"
          ],
          "name": "stdout"
        },
        {
          "output_type": "display_data",
          "data": {
            "text/html": [
              "<div>\n",
              "<style scoped>\n",
              "    .dataframe tbody tr th:only-of-type {\n",
              "        vertical-align: middle;\n",
              "    }\n",
              "\n",
              "    .dataframe tbody tr th {\n",
              "        vertical-align: top;\n",
              "    }\n",
              "\n",
              "    .dataframe thead th {\n",
              "        text-align: right;\n",
              "    }\n",
              "</style>\n",
              "<table border=\"1\" class=\"dataframe\">\n",
              "  <thead>\n",
              "    <tr style=\"text-align: right;\">\n",
              "      <th></th>\n",
              "      <th></th>\n",
              "      <th>smoothed_ssn</th>\n",
              "    </tr>\n",
              "    <tr>\n",
              "      <th>period</th>\n",
              "      <th>timedelta</th>\n",
              "      <th></th>\n",
              "    </tr>\n",
              "  </thead>\n",
              "  <tbody>\n",
              "    <tr>\n",
              "      <th rowspan=\"5\" valign=\"top\">train_a</th>\n",
              "      <th>0 days 00:00:00</th>\n",
              "      <td>65.4</td>\n",
              "    </tr>\n",
              "    <tr>\n",
              "      <th>13 days 00:00:00</th>\n",
              "      <td>72.0</td>\n",
              "    </tr>\n",
              "    <tr>\n",
              "      <th>44 days 00:00:00</th>\n",
              "      <td>76.9</td>\n",
              "    </tr>\n",
              "    <tr>\n",
              "      <th>74 days 00:00:00</th>\n",
              "      <td>80.8</td>\n",
              "    </tr>\n",
              "    <tr>\n",
              "      <th>105 days 00:00:00</th>\n",
              "      <td>85.4</td>\n",
              "    </tr>\n",
              "  </tbody>\n",
              "</table>\n",
              "</div>"
            ],
            "text/plain": [
              "                           smoothed_ssn\n",
              "period  timedelta                      \n",
              "train_a 0 days 00:00:00            65.4\n",
              "        13 days 00:00:00           72.0\n",
              "        44 days 00:00:00           76.9\n",
              "        74 days 00:00:00           80.8\n",
              "        105 days 00:00:00          85.4"
            ]
          },
          "metadata": {
            "tags": []
          }
        }
      ]
    },
    {
      "cell_type": "code",
      "metadata": {
        "id": "XORH9a7eWRfQ"
      },
      "source": [
        "\n",
        "sunspots = uri(sunspots, '30T')"
      ],
      "execution_count": null,
      "outputs": []
    },
    {
      "cell_type": "code",
      "metadata": {
        "colab": {
          "base_uri": "https://localhost:8080/",
          "height": 303
        },
        "id": "slAl_CcaAmLv",
        "outputId": "ae63dcaa-d250-4791-b93a-a420f7c931ce"
      },
      "source": [
        "data_info(sunspots)"
      ],
      "execution_count": null,
      "outputs": [
        {
          "output_type": "stream",
          "text": [
            "shape of the data dst_labs: (275283, 1)\n",
            "Null values: smoothed_ssn    275091\n",
            "dtype: int64\n",
            "Total null values sanity check: 275091\n"
          ],
          "name": "stdout"
        },
        {
          "output_type": "display_data",
          "data": {
            "text/html": [
              "<div>\n",
              "<style scoped>\n",
              "    .dataframe tbody tr th:only-of-type {\n",
              "        vertical-align: middle;\n",
              "    }\n",
              "\n",
              "    .dataframe tbody tr th {\n",
              "        vertical-align: top;\n",
              "    }\n",
              "\n",
              "    .dataframe thead th {\n",
              "        text-align: right;\n",
              "    }\n",
              "</style>\n",
              "<table border=\"1\" class=\"dataframe\">\n",
              "  <thead>\n",
              "    <tr style=\"text-align: right;\">\n",
              "      <th></th>\n",
              "      <th></th>\n",
              "      <th>smoothed_ssn</th>\n",
              "    </tr>\n",
              "    <tr>\n",
              "      <th>period</th>\n",
              "      <th>timedelta</th>\n",
              "      <th></th>\n",
              "    </tr>\n",
              "  </thead>\n",
              "  <tbody>\n",
              "    <tr>\n",
              "      <th rowspan=\"5\" valign=\"top\">train_a</th>\n",
              "      <th>0 days 00:00:00</th>\n",
              "      <td>65.4</td>\n",
              "    </tr>\n",
              "    <tr>\n",
              "      <th>0 days 00:30:00</th>\n",
              "      <td>NaN</td>\n",
              "    </tr>\n",
              "    <tr>\n",
              "      <th>0 days 01:00:00</th>\n",
              "      <td>NaN</td>\n",
              "    </tr>\n",
              "    <tr>\n",
              "      <th>0 days 01:30:00</th>\n",
              "      <td>NaN</td>\n",
              "    </tr>\n",
              "    <tr>\n",
              "      <th>0 days 02:00:00</th>\n",
              "      <td>NaN</td>\n",
              "    </tr>\n",
              "  </tbody>\n",
              "</table>\n",
              "</div>"
            ],
            "text/plain": [
              "                         smoothed_ssn\n",
              "period  timedelta                    \n",
              "train_a 0 days 00:00:00          65.4\n",
              "        0 days 00:30:00           NaN\n",
              "        0 days 01:00:00           NaN\n",
              "        0 days 01:30:00           NaN\n",
              "        0 days 02:00:00           NaN"
            ]
          },
          "metadata": {
            "tags": []
          }
        }
      ]
    },
    {
      "cell_type": "code",
      "metadata": {
        "colab": {
          "base_uri": "https://localhost:8080/"
        },
        "id": "rlfJBZlMWZkp",
        "outputId": "0759fa38-4565-4ca9-e9ce-123b50074c87"
      },
      "source": [
        "print(sw_agg.shape, dst.shape, sw_dst.shape, sunspots.shape)"
      ],
      "execution_count": null,
      "outputs": [
        {
          "output_type": "stream",
          "text": [
            "(279744, 9) (279741, 1) (279744, 10) (275283, 1)\n"
          ],
          "name": "stdout"
        }
      ]
    },
    {
      "cell_type": "code",
      "metadata": {
        "id": "7PFJGBgMWi_r"
      },
      "source": [
        "sw_dst_ss= sw_dst.join(sunspots)\n",
        " # forward fill sunspot data for the rest of the month\n",
        "sw_dst_ss['smoothed_ssn'] = sw_dst_ss['smoothed_ssn'].fillna(method=\"ffill\")\n",
        "# interpolate between missing solar wind values\n",
        "sw_dst_ss['smoothed_ssn']=sw_dst_ss[['smoothed_ssn']].interpolate()"
      ],
      "execution_count": null,
      "outputs": []
    },
    {
      "cell_type": "code",
      "metadata": {
        "colab": {
          "base_uri": "https://localhost:8080/",
          "height": 487
        },
        "id": "l2lz3FPPWptU",
        "outputId": "d67f4d4f-4f6d-4691-ed31-7aa8d50a310b"
      },
      "source": [
        "print (\"shape of all:\", sw_agg.shape, dst.shape, sw_dst.shape, sunspots.shape)\n",
        "print (\"Total Null values:\", sw_dst_ss.isnull().sum().sum())\n",
        "display(sw_dst_ss.head())\n",
        "display(sw_dst_ss.tail())"
      ],
      "execution_count": null,
      "outputs": [
        {
          "output_type": "stream",
          "text": [
            "shape of all: (279744, 9) (279741, 1) (279744, 10) (275283, 1)\n",
            "Total Null values: 0\n"
          ],
          "name": "stdout"
        },
        {
          "output_type": "display_data",
          "data": {
            "text/html": [
              "<div>\n",
              "<style scoped>\n",
              "    .dataframe tbody tr th:only-of-type {\n",
              "        vertical-align: middle;\n",
              "    }\n",
              "\n",
              "    .dataframe tbody tr th {\n",
              "        vertical-align: top;\n",
              "    }\n",
              "\n",
              "    .dataframe thead th {\n",
              "        text-align: right;\n",
              "    }\n",
              "</style>\n",
              "<table border=\"1\" class=\"dataframe\">\n",
              "  <thead>\n",
              "    <tr style=\"text-align: right;\">\n",
              "      <th></th>\n",
              "      <th></th>\n",
              "      <th>bx_gse</th>\n",
              "      <th>by_gse</th>\n",
              "      <th>bz_gse</th>\n",
              "      <th>theta_gse</th>\n",
              "      <th>phi_gse</th>\n",
              "      <th>bt</th>\n",
              "      <th>density</th>\n",
              "      <th>speed</th>\n",
              "      <th>temperature</th>\n",
              "      <th>dst</th>\n",
              "      <th>smoothed_ssn</th>\n",
              "    </tr>\n",
              "    <tr>\n",
              "      <th>period</th>\n",
              "      <th>timedelta</th>\n",
              "      <th></th>\n",
              "      <th></th>\n",
              "      <th></th>\n",
              "      <th></th>\n",
              "      <th></th>\n",
              "      <th></th>\n",
              "      <th></th>\n",
              "      <th></th>\n",
              "      <th></th>\n",
              "      <th></th>\n",
              "      <th></th>\n",
              "    </tr>\n",
              "  </thead>\n",
              "  <tbody>\n",
              "    <tr>\n",
              "      <th rowspan=\"5\" valign=\"top\">train_a</th>\n",
              "      <th>0 days 00:00:00</th>\n",
              "      <td>-5.924667</td>\n",
              "      <td>2.342667</td>\n",
              "      <td>0.910333</td>\n",
              "      <td>7.925000</td>\n",
              "      <td>159.567333</td>\n",
              "      <td>6.859667</td>\n",
              "      <td>1.367000</td>\n",
              "      <td>364.503167</td>\n",
              "      <td>79025.966667</td>\n",
              "      <td>-7.0</td>\n",
              "      <td>65.4</td>\n",
              "    </tr>\n",
              "    <tr>\n",
              "      <th>0 days 00:30:00</th>\n",
              "      <td>-6.374333</td>\n",
              "      <td>0.948333</td>\n",
              "      <td>0.779000</td>\n",
              "      <td>6.282333</td>\n",
              "      <td>171.273333</td>\n",
              "      <td>7.420333</td>\n",
              "      <td>0.981333</td>\n",
              "      <td>346.053333</td>\n",
              "      <td>58734.716667</td>\n",
              "      <td>-8.5</td>\n",
              "      <td>65.4</td>\n",
              "    </tr>\n",
              "    <tr>\n",
              "      <th>0 days 01:00:00</th>\n",
              "      <td>-6.470333</td>\n",
              "      <td>0.367333</td>\n",
              "      <td>1.320333</td>\n",
              "      <td>10.937333</td>\n",
              "      <td>177.403333</td>\n",
              "      <td>7.033000</td>\n",
              "      <td>1.002333</td>\n",
              "      <td>337.884667</td>\n",
              "      <td>78864.695238</td>\n",
              "      <td>-10.0</td>\n",
              "      <td>65.4</td>\n",
              "    </tr>\n",
              "    <tr>\n",
              "      <th>0 days 01:30:00</th>\n",
              "      <td>-6.917333</td>\n",
              "      <td>1.165667</td>\n",
              "      <td>1.210000</td>\n",
              "      <td>9.429333</td>\n",
              "      <td>171.132333</td>\n",
              "      <td>7.536667</td>\n",
              "      <td>0.629500</td>\n",
              "      <td>322.276500</td>\n",
              "      <td>25541.754762</td>\n",
              "      <td>-10.0</td>\n",
              "      <td>65.4</td>\n",
              "    </tr>\n",
              "    <tr>\n",
              "      <th>0 days 02:00:00</th>\n",
              "      <td>-7.215000</td>\n",
              "      <td>0.885333</td>\n",
              "      <td>2.135667</td>\n",
              "      <td>15.792667</td>\n",
              "      <td>173.602333</td>\n",
              "      <td>7.857333</td>\n",
              "      <td>1.021833</td>\n",
              "      <td>331.417833</td>\n",
              "      <td>55013.433333</td>\n",
              "      <td>-10.0</td>\n",
              "      <td>65.4</td>\n",
              "    </tr>\n",
              "  </tbody>\n",
              "</table>\n",
              "</div>"
            ],
            "text/plain": [
              "                           bx_gse    by_gse  ...   dst  smoothed_ssn\n",
              "period  timedelta                            ...                    \n",
              "train_a 0 days 00:00:00 -5.924667  2.342667  ...  -7.0          65.4\n",
              "        0 days 00:30:00 -6.374333  0.948333  ...  -8.5          65.4\n",
              "        0 days 01:00:00 -6.470333  0.367333  ... -10.0          65.4\n",
              "        0 days 01:30:00 -6.917333  1.165667  ... -10.0          65.4\n",
              "        0 days 02:00:00 -7.215000  0.885333  ... -10.0          65.4\n",
              "\n",
              "[5 rows x 11 columns]"
            ]
          },
          "metadata": {
            "tags": []
          }
        },
        {
          "output_type": "display_data",
          "data": {
            "text/html": [
              "<div>\n",
              "<style scoped>\n",
              "    .dataframe tbody tr th:only-of-type {\n",
              "        vertical-align: middle;\n",
              "    }\n",
              "\n",
              "    .dataframe tbody tr th {\n",
              "        vertical-align: top;\n",
              "    }\n",
              "\n",
              "    .dataframe thead th {\n",
              "        text-align: right;\n",
              "    }\n",
              "</style>\n",
              "<table border=\"1\" class=\"dataframe\">\n",
              "  <thead>\n",
              "    <tr style=\"text-align: right;\">\n",
              "      <th></th>\n",
              "      <th></th>\n",
              "      <th>bx_gse</th>\n",
              "      <th>by_gse</th>\n",
              "      <th>bz_gse</th>\n",
              "      <th>theta_gse</th>\n",
              "      <th>phi_gse</th>\n",
              "      <th>bt</th>\n",
              "      <th>density</th>\n",
              "      <th>speed</th>\n",
              "      <th>temperature</th>\n",
              "      <th>dst</th>\n",
              "      <th>smoothed_ssn</th>\n",
              "    </tr>\n",
              "    <tr>\n",
              "      <th>period</th>\n",
              "      <th>timedelta</th>\n",
              "      <th></th>\n",
              "      <th></th>\n",
              "      <th></th>\n",
              "      <th></th>\n",
              "      <th></th>\n",
              "      <th></th>\n",
              "      <th></th>\n",
              "      <th></th>\n",
              "      <th></th>\n",
              "      <th></th>\n",
              "      <th></th>\n",
              "    </tr>\n",
              "  </thead>\n",
              "  <tbody>\n",
              "    <tr>\n",
              "      <th rowspan=\"5\" valign=\"top\">train_c</th>\n",
              "      <th>2435 days 21:30:00</th>\n",
              "      <td>-1.079667</td>\n",
              "      <td>3.882333</td>\n",
              "      <td>-2.018333</td>\n",
              "      <td>-26.086000</td>\n",
              "      <td>105.822333</td>\n",
              "      <td>4.613667</td>\n",
              "      <td>2.446333</td>\n",
              "      <td>348.466667</td>\n",
              "      <td>34753.883333</td>\n",
              "      <td>-14.5</td>\n",
              "      <td>42.5</td>\n",
              "    </tr>\n",
              "    <tr>\n",
              "      <th>2435 days 22:00:00</th>\n",
              "      <td>-2.436667</td>\n",
              "      <td>3.454333</td>\n",
              "      <td>-1.235000</td>\n",
              "      <td>-15.127000</td>\n",
              "      <td>124.549000</td>\n",
              "      <td>4.719667</td>\n",
              "      <td>1.790000</td>\n",
              "      <td>344.647333</td>\n",
              "      <td>44601.083333</td>\n",
              "      <td>-15.0</td>\n",
              "      <td>42.5</td>\n",
              "    </tr>\n",
              "    <tr>\n",
              "      <th>2435 days 22:30:00</th>\n",
              "      <td>-2.333333</td>\n",
              "      <td>2.266333</td>\n",
              "      <td>-3.208333</td>\n",
              "      <td>-44.164333</td>\n",
              "      <td>136.654000</td>\n",
              "      <td>4.713667</td>\n",
              "      <td>2.507833</td>\n",
              "      <td>342.329000</td>\n",
              "      <td>39006.200000</td>\n",
              "      <td>-14.5</td>\n",
              "      <td>42.5</td>\n",
              "    </tr>\n",
              "    <tr>\n",
              "      <th>2435 days 23:00:00</th>\n",
              "      <td>-2.340667</td>\n",
              "      <td>2.987667</td>\n",
              "      <td>-2.418000</td>\n",
              "      <td>-32.429333</td>\n",
              "      <td>128.200667</td>\n",
              "      <td>4.539000</td>\n",
              "      <td>1.822500</td>\n",
              "      <td>344.518833</td>\n",
              "      <td>36118.233333</td>\n",
              "      <td>-14.0</td>\n",
              "      <td>42.5</td>\n",
              "    </tr>\n",
              "    <tr>\n",
              "      <th>2435 days 23:30:00</th>\n",
              "      <td>-2.162333</td>\n",
              "      <td>2.251000</td>\n",
              "      <td>-3.224000</td>\n",
              "      <td>-45.698667</td>\n",
              "      <td>132.354667</td>\n",
              "      <td>4.570667</td>\n",
              "      <td>2.744667</td>\n",
              "      <td>343.178667</td>\n",
              "      <td>36265.583333</td>\n",
              "      <td>-14.0</td>\n",
              "      <td>42.5</td>\n",
              "    </tr>\n",
              "  </tbody>\n",
              "</table>\n",
              "</div>"
            ],
            "text/plain": [
              "                              bx_gse    by_gse  ...   dst  smoothed_ssn\n",
              "period  timedelta                               ...                    \n",
              "train_c 2435 days 21:30:00 -1.079667  3.882333  ... -14.5          42.5\n",
              "        2435 days 22:00:00 -2.436667  3.454333  ... -15.0          42.5\n",
              "        2435 days 22:30:00 -2.333333  2.266333  ... -14.5          42.5\n",
              "        2435 days 23:00:00 -2.340667  2.987667  ... -14.0          42.5\n",
              "        2435 days 23:30:00 -2.162333  2.251000  ... -14.0          42.5\n",
              "\n",
              "[5 rows x 11 columns]"
            ]
          },
          "metadata": {
            "tags": []
          }
        }
      ]
    },
    {
      "cell_type": "markdown",
      "metadata": {
        "id": "i1JhryeIxWgi"
      },
      "source": [
        "### Satellite Position Drop Cols and Interpolation"
      ]
    },
    {
      "cell_type": "code",
      "metadata": {
        "id": "U5ZmFUg5Dg3B",
        "colab": {
          "base_uri": "https://localhost:8080/",
          "height": 388
        },
        "outputId": "24db3956-3592-43cc-a3ea-4037e025c0d1"
      },
      "source": [
        "data_info(sat_pos)"
      ],
      "execution_count": null,
      "outputs": [
        {
          "output_type": "stream",
          "text": [
            "shape of the data dst_labs: (5828, 6)\n",
            "Null values: gse_x_ace          0\n",
            "gse_y_ace          0\n",
            "gse_z_ace          0\n",
            "gse_x_dscovr    4794\n",
            "gse_y_dscovr    4794\n",
            "gse_z_dscovr    4794\n",
            "dtype: int64\n",
            "Total null values sanity check: 14382\n"
          ],
          "name": "stdout"
        },
        {
          "output_type": "display_data",
          "data": {
            "text/html": [
              "<div>\n",
              "<style scoped>\n",
              "    .dataframe tbody tr th:only-of-type {\n",
              "        vertical-align: middle;\n",
              "    }\n",
              "\n",
              "    .dataframe tbody tr th {\n",
              "        vertical-align: top;\n",
              "    }\n",
              "\n",
              "    .dataframe thead th {\n",
              "        text-align: right;\n",
              "    }\n",
              "</style>\n",
              "<table border=\"1\" class=\"dataframe\">\n",
              "  <thead>\n",
              "    <tr style=\"text-align: right;\">\n",
              "      <th></th>\n",
              "      <th></th>\n",
              "      <th>gse_x_ace</th>\n",
              "      <th>gse_y_ace</th>\n",
              "      <th>gse_z_ace</th>\n",
              "      <th>gse_x_dscovr</th>\n",
              "      <th>gse_y_dscovr</th>\n",
              "      <th>gse_z_dscovr</th>\n",
              "    </tr>\n",
              "    <tr>\n",
              "      <th>period</th>\n",
              "      <th>timedelta</th>\n",
              "      <th></th>\n",
              "      <th></th>\n",
              "      <th></th>\n",
              "      <th></th>\n",
              "      <th></th>\n",
              "      <th></th>\n",
              "    </tr>\n",
              "  </thead>\n",
              "  <tbody>\n",
              "    <tr>\n",
              "      <th rowspan=\"5\" valign=\"top\">train_a</th>\n",
              "      <th>0 days</th>\n",
              "      <td>1522376.9</td>\n",
              "      <td>143704.6</td>\n",
              "      <td>149496.7</td>\n",
              "      <td>NaN</td>\n",
              "      <td>NaN</td>\n",
              "      <td>NaN</td>\n",
              "    </tr>\n",
              "    <tr>\n",
              "      <th>1 days</th>\n",
              "      <td>1525410.9</td>\n",
              "      <td>136108.8</td>\n",
              "      <td>151034.1</td>\n",
              "      <td>NaN</td>\n",
              "      <td>NaN</td>\n",
              "      <td>NaN</td>\n",
              "    </tr>\n",
              "    <tr>\n",
              "      <th>2 days</th>\n",
              "      <td>1528484.9</td>\n",
              "      <td>128470.5</td>\n",
              "      <td>152387.7</td>\n",
              "      <td>NaN</td>\n",
              "      <td>NaN</td>\n",
              "      <td>NaN</td>\n",
              "    </tr>\n",
              "    <tr>\n",
              "      <th>3 days</th>\n",
              "      <td>1531570.3</td>\n",
              "      <td>120818.4</td>\n",
              "      <td>153561.4</td>\n",
              "      <td>NaN</td>\n",
              "      <td>NaN</td>\n",
              "      <td>NaN</td>\n",
              "    </tr>\n",
              "    <tr>\n",
              "      <th>4 days</th>\n",
              "      <td>1534633.1</td>\n",
              "      <td>113178.5</td>\n",
              "      <td>154534.6</td>\n",
              "      <td>NaN</td>\n",
              "      <td>NaN</td>\n",
              "      <td>NaN</td>\n",
              "    </tr>\n",
              "  </tbody>\n",
              "</table>\n",
              "</div>"
            ],
            "text/plain": [
              "                   gse_x_ace  gse_y_ace  ...  gse_y_dscovr  gse_z_dscovr\n",
              "period  timedelta                        ...                            \n",
              "train_a 0 days     1522376.9   143704.6  ...           NaN           NaN\n",
              "        1 days     1525410.9   136108.8  ...           NaN           NaN\n",
              "        2 days     1528484.9   128470.5  ...           NaN           NaN\n",
              "        3 days     1531570.3   120818.4  ...           NaN           NaN\n",
              "        4 days     1534633.1   113178.5  ...           NaN           NaN\n",
              "\n",
              "[5 rows x 6 columns]"
            ]
          },
          "metadata": {
            "tags": []
          }
        }
      ]
    },
    {
      "cell_type": "code",
      "metadata": {
        "colab": {
          "base_uri": "https://localhost:8080/",
          "height": 266
        },
        "id": "XLueyu-lWt37",
        "outputId": "da09c8a1-47b6-4436-943a-1a6a9552dc40"
      },
      "source": [
        "sat_pos = uri(sat_pos, '30T')"
      ],
      "execution_count": null,
      "outputs": [
        {
          "output_type": "error",
          "ename": "AttributeError",
          "evalue": "ignored",
          "traceback": [
            "\u001b[0;31m---------------------------------------------------------------------------\u001b[0m",
            "\u001b[0;31mAttributeError\u001b[0m                            Traceback (most recent call last)",
            "\u001b[0;32m<ipython-input-133-2beda7175e4d>\u001b[0m in \u001b[0;36m<module>\u001b[0;34m()\u001b[0m\n\u001b[0;32m----> 1\u001b[0;31m \u001b[0msat_pos\u001b[0m \u001b[0;34m=\u001b[0m \u001b[0muri\u001b[0m\u001b[0;34m(\u001b[0m\u001b[0msat_pos\u001b[0m\u001b[0;34m,\u001b[0m \u001b[0;34m'30T'\u001b[0m\u001b[0;34m)\u001b[0m\u001b[0;34m\u001b[0m\u001b[0;34m\u001b[0m\u001b[0m\n\u001b[0m",
            "\u001b[0;32m<ipython-input-110-76dd6d8940a4>\u001b[0m in \u001b[0;36muri\u001b[0;34m(df, sample_res)\u001b[0m\n\u001b[1;32m      1\u001b[0m \u001b[0;32mdef\u001b[0m \u001b[0muri\u001b[0m\u001b[0;34m(\u001b[0m\u001b[0mdf\u001b[0m\u001b[0;34m,\u001b[0m \u001b[0msample_res\u001b[0m\u001b[0;34m)\u001b[0m\u001b[0;34m:\u001b[0m\u001b[0;34m\u001b[0m\u001b[0;34m\u001b[0m\u001b[0m\n\u001b[0;32m----> 2\u001b[0;31m     \u001b[0mdf\u001b[0m \u001b[0;34m=\u001b[0m \u001b[0mdf\u001b[0m\u001b[0;34m.\u001b[0m\u001b[0mreset_index\u001b[0m\u001b[0;34m(\u001b[0m\u001b[0mlevel\u001b[0m\u001b[0;34m=\u001b[0m\u001b[0;34m'period'\u001b[0m\u001b[0;34m)\u001b[0m\u001b[0;34m\u001b[0m\u001b[0;34m\u001b[0m\u001b[0m\n\u001b[0m\u001b[1;32m      3\u001b[0m     \u001b[0mdf\u001b[0m\u001b[0;34m.\u001b[0m\u001b[0mindex\u001b[0m\u001b[0;34m=\u001b[0m\u001b[0mpd\u001b[0m\u001b[0;34m.\u001b[0m\u001b[0mto_timedelta\u001b[0m\u001b[0;34m(\u001b[0m\u001b[0mdf\u001b[0m\u001b[0;34m.\u001b[0m\u001b[0mindex\u001b[0m\u001b[0;34m)\u001b[0m\u001b[0;34m\u001b[0m\u001b[0;34m\u001b[0m\u001b[0m\n\u001b[1;32m      4\u001b[0m     \u001b[0;32mreturn\u001b[0m \u001b[0mdf\u001b[0m\u001b[0;34m.\u001b[0m\u001b[0mgroupby\u001b[0m\u001b[0;34m(\u001b[0m\u001b[0;34m'period'\u001b[0m\u001b[0;34m)\u001b[0m\u001b[0;34m.\u001b[0m\u001b[0mresample\u001b[0m\u001b[0;34m(\u001b[0m\u001b[0msample_res\u001b[0m\u001b[0;34m)\u001b[0m\u001b[0;34m.\u001b[0m\u001b[0mmean\u001b[0m\u001b[0;34m(\u001b[0m\u001b[0;34m)\u001b[0m\u001b[0;34m\u001b[0m\u001b[0;34m\u001b[0m\u001b[0m\n",
            "\u001b[0;31mAttributeError\u001b[0m: 'NoneType' object has no attribute 'reset_index'"
          ]
        }
      ]
    },
    {
      "cell_type": "code",
      "metadata": {
        "id": "A6-Ti1p3W6pk"
      },
      "source": [
        "# drop the unnecessary columns\n",
        "cols_to_drop = ['gse_x_dscovr', 'gse_y_dscovr', 'gse_z_dscovr']\n",
        "sat_pos.drop(cols_to_drop, axis=1, inplace=True)\n",
        "\n",
        "print ('Droping the columns:', cols_to_drop)\n",
        "print ('remaining columns:', sat_pos.columns )\n",
        "sat_pos.head()"
      ],
      "execution_count": null,
      "outputs": []
    },
    {
      "cell_type": "code",
      "metadata": {
        "id": "s1nMU623XBkM"
      },
      "source": [
        "df_final=df_sw_dst_ss.join(sat_pos)"
      ],
      "execution_count": null,
      "outputs": []
    },
    {
      "cell_type": "code",
      "metadata": {
        "id": "UzcL_YG2XFIV"
      },
      "source": [
        "print (\"Total Null values:\", df_final.isnull().sum())"
      ],
      "execution_count": null,
      "outputs": []
    },
    {
      "cell_type": "code",
      "metadata": {
        "id": "9zrbynWLXIut"
      },
      "source": [
        "cols_to_interp=['gse_x_ace', 'gse_y_ace', 'gse_z_ace']\n",
        "df_final[cols_to_interp]=df_final[cols_to_interp].interpolate(method='linear', limit_direction='forward', axis=0)\n",
        "print ('final_shape:', df_final.shape)\n",
        "print ('Number of nulls:', df_sw_dst_ss.isnull().sum().sum() )\n",
        "df_final.head(2)"
      ],
      "execution_count": null,
      "outputs": []
    },
    {
      "cell_type": "code",
      "metadata": {
        "id": "uql_ncwiXOWU"
      },
      "source": [
        "print (\"shape of all:\", sw_ipt_agg_ml.shape, dst.shape, df_sw_dst.shape, sat_pos.shape, df_final.shape)"
      ],
      "execution_count": null,
      "outputs": []
    },
    {
      "cell_type": "code",
      "metadata": {
        "id": "2mi8X_AfXRqU"
      },
      "source": [
        "def agg_std(df_final, df_sw, sample_res):\n",
        "    cols_to_keep = ['by_gse', 'bz_gse', 'bt', 'density', 'speed']\n",
        "    df_sw = df_sw[cols_to_keep]\n",
        "    \n",
        "    df_sw = df_sw.reset_index(level='period')\n",
        "    df_sw.index=pd.to_timedelta(df_sw.index)\n",
        "    df_sw = df_sw.groupby('period').resample(sample_res).std()\n",
        "    \n",
        "    # rename the columns for the std\n",
        "    columns = [c+'_std' for c in df_sw.columns]\n",
        "    df_sw.columns = columns\n",
        "\n",
        "    df = df_final.join(df_sw)\n",
        "    return df"
      ],
      "execution_count": null,
      "outputs": []
    },
    {
      "cell_type": "code",
      "metadata": {
        "id": "7lHFy9LXXnF5"
      },
      "source": [
        "df_final = agg_std(df_final, solar_wind, '30T')\n",
        "print ('df_final.shape:', df_final.shape)\n",
        "print ('Number of nulls:', df_final.isnull().sum().sum() )\n",
        "df_final.head(2)"
      ],
      "execution_count": null,
      "outputs": []
    },
    {
      "cell_type": "code",
      "metadata": {
        "id": "NbqIXa0NXt11"
      },
      "source": [
        "df_to_save = df_final.reset_index(level='period')\n",
        "df_to_save.head(10)"
      ],
      "execution_count": null,
      "outputs": []
    },
    {
      "cell_type": "code",
      "metadata": {
        "id": "lVM2azLPX8Cy"
      },
      "source": [
        "df_to_save.tail(10)"
      ],
      "execution_count": null,
      "outputs": []
    },
    {
      "cell_type": "code",
      "metadata": {
        "id": "T8o5AArgY4Er"
      },
      "source": [
        "df_to_save.info()"
      ],
      "execution_count": null,
      "outputs": []
    },
    {
      "cell_type": "code",
      "metadata": {
        "id": "6IBGV__xX9Un"
      },
      "source": [
        "df_to_save.to_csv('/content/drive/MyDrive/Colab Notebooks/MagNet/df_30min.csv')"
      ],
      "execution_count": null,
      "outputs": []
    },
    {
      "cell_type": "code",
      "metadata": {
        "id": "5mVR146YYCSO"
      },
      "source": [
        ""
      ],
      "execution_count": null,
      "outputs": []
    }
  ]
}